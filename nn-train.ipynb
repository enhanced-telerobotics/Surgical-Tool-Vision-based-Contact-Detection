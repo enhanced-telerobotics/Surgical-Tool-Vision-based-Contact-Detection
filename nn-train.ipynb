{
 "cells": [
  {
   "cell_type": "markdown",
   "metadata": {},
   "source": [
    "# Import libs"
   ]
  },
  {
   "cell_type": "code",
   "execution_count": 1,
   "metadata": {},
   "outputs": [],
   "source": [
    "import os\n",
    "import json\n",
    "import random\n",
    "import numpy as np\n",
    "import pandas as pd\n",
    "import matplotlib.pyplot as plt\n",
    "import torch\n",
    "import torch.nn as nn\n",
    "import torch.optim as optim\n",
    "from torch.utils.data import DataLoader\n",
    "from VisionDatasets import ContactDataset\n",
    "from tqdm import tqdm\n",
    "from PIL import Image\n",
    "from datetime import datetime\n",
    "\n",
    "import utils\n",
    "from VisionModels import CustomCNN\n",
    "%load_ext autoreload\n",
    "%autoreload 2"
   ]
  },
  {
   "cell_type": "markdown",
   "metadata": {},
   "source": [
    "# Pre-settings"
   ]
  },
  {
   "cell_type": "code",
   "execution_count": 2,
   "metadata": {},
   "outputs": [],
   "source": [
    "parameters_json = os.path.join(os.getcwd(), 'settings/parameters.json')\n",
    "paths_json = os.path.join(os.getcwd(), 'settings/paths.json')"
   ]
  },
  {
   "cell_type": "code",
   "execution_count": 3,
   "metadata": {},
   "outputs": [],
   "source": [
    "with open(parameters_json, 'r') as json_file:\n",
    "    parameters = json.load(json_file)\n",
    "\n",
    "with open(paths_json, 'r') as json_file:\n",
    "    paths = json.load(json_file)"
   ]
  },
  {
   "cell_type": "code",
   "execution_count": 4,
   "metadata": {},
   "outputs": [],
   "source": [
    "random_seed = parameters[\"random_seed\"]\n",
    "\n",
    "torch.manual_seed(random_seed)\n",
    "torch.cuda.manual_seed(random_seed)\n",
    "np.random.seed(random_seed)\n",
    "random.seed(random_seed)"
   ]
  },
  {
   "cell_type": "code",
   "execution_count": 5,
   "metadata": {},
   "outputs": [],
   "source": [
    "train_set = [1, 3, 5, 7, 8, 10, 12, 14, 15, 17, 19, 21, 41, 98, 107, 143]\n",
    "val_set = [2, 4, 9, 11, 16, 18, 42, 116]\n",
    "test_set = [37, 68, 71, 23, 22, 24, 25, 26, 27, 28, 29,\n",
    "            46, 47, 38, 95, 104, 101, 92, 110, 45, 125, 134]"
   ]
  },
  {
   "cell_type": "markdown",
   "metadata": {},
   "source": [
    "# Import Data"
   ]
  },
  {
   "cell_type": "code",
   "execution_count": 6,
   "metadata": {},
   "outputs": [],
   "source": [
    "data = pd.read_csv(paths['silicone']['labels'], header=0)"
   ]
  },
  {
   "cell_type": "code",
   "execution_count": 7,
   "metadata": {},
   "outputs": [],
   "source": [
    "train_data = data[data['HPC_Path'].str.extract(\n",
    "    r'imageset_(\\d+)').astype(int).isin(train_set).any(axis=1)]\n",
    "val_data = data[data['HPC_Path'].str.extract(\n",
    "    r'imageset_(\\d+)').astype(int).isin(val_set).any(axis=1)]\n",
    "test_data = data[data['HPC_Path'].str.extract(\n",
    "    r'imageset_(\\d+)').astype(int).isin(test_set).any(axis=1)]"
   ]
  },
  {
   "cell_type": "markdown",
   "metadata": {},
   "source": [
    "# Training"
   ]
  },
  {
   "cell_type": "code",
   "execution_count": 8,
   "metadata": {},
   "outputs": [],
   "source": [
    "device = torch.device('cuda' if torch.cuda.is_available() else 'cpu')\n",
    "\n",
    "model = CustomCNN(random_seed=random_seed)\n",
    "\n",
    "optimizer = optim.Adam(\n",
    "    model.parameters(),\n",
    "    lr=parameters['CustomCNN']['learning_rate'],\n",
    "    weight_decay=parameters['CustomCNN']['weight_decay'])\n",
    "\n",
    "loss_fn = nn.CrossEntropyLoss()\n",
    "\n",
    "train_dataloader = DataLoader(\n",
    "    dataset=ContactDataset(\n",
    "        images=[Image.open(image)\n",
    "                for image in train_data['HPC_Path'].tolist()],\n",
    "        labels=train_data['GT'].to_numpy()\n",
    "    ),\n",
    "    batch_size=parameters['CustomCNN']['batch_size'],\n",
    "    pin_memory=True,\n",
    "    num_workers=(4 if os.cpu_count() > 4 else os.cpu_count()))\n",
    "\n",
    "val_dataloader = DataLoader(\n",
    "    dataset=ContactDataset(\n",
    "        images=[Image.open(image)\n",
    "                for image in val_data['HPC_Path'].tolist()],\n",
    "        labels=val_data['GT'].to_numpy()\n",
    "    ),\n",
    "    batch_size=1024,\n",
    "    pin_memory=True)"
   ]
  },
  {
   "cell_type": "code",
   "execution_count": 9,
   "metadata": {},
   "outputs": [
    {
     "name": "stderr",
     "output_type": "stream",
     "text": [
      "Epoch 99: 100%|██████████| 3400/3400 [01:25<00:00, 39.69it/s, loss=0.182]\n"
     ]
    }
   ],
   "source": [
    "metrics = utils.train(model=model,\n",
    "            optimizer=optimizer,\n",
    "            loss_fn=loss_fn,\n",
    "            dataloader=train_dataloader,\n",
    "            val_dataloader=val_dataloader,\n",
    "            device=device,\n",
    "            use_tqdm=True,\n",
    "            epochs=100)"
   ]
  },
  {
   "cell_type": "code",
   "execution_count": 11,
   "metadata": {},
   "outputs": [],
   "source": [
    "# Get the current time and format it as a string\n",
    "now = datetime.now()\n",
    "timestamp = now.strftime(\"%Y%m%d_%H%M%S\")\n",
    "\n",
    "with open(f'results/metrics_{timestamp}.json', 'w') as f:\n",
    "    json.dump(metrics, f)"
   ]
  }
 ],
 "metadata": {
  "kernelspec": {
   "display_name": "Python 3",
   "language": "python",
   "name": "python3"
  },
  "language_info": {
   "codemirror_mode": {
    "name": "ipython",
    "version": 3
   },
   "file_extension": ".py",
   "mimetype": "text/x-python",
   "name": "python",
   "nbconvert_exporter": "python",
   "pygments_lexer": "ipython3",
   "version": "3.9.5"
  }
 },
 "nbformat": 4,
 "nbformat_minor": 2
}
