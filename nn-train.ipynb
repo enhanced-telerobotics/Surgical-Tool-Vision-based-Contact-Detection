{
 "cells": [
  {
   "cell_type": "markdown",
   "metadata": {},
   "source": [
    "# Import libs"
   ]
  },
  {
   "cell_type": "code",
   "execution_count": null,
   "metadata": {
    "notebookRunGroups": {
     "groupValue": "1"
    }
   },
   "outputs": [],
   "source": [
    "import os\n",
    "import json\n",
    "import random\n",
    "import pickle\n",
    "import numpy as np\n",
    "import pandas as pd\n",
    "from itertools import product\n",
    "import torch\n",
    "import torch.nn as nn\n",
    "import torch.optim as optim\n",
    "from torch.utils.data import DataLoader\n",
    "from tqdm import tqdm\n",
    "from datetime import datetime\n",
    "\n",
    "import utils\n",
    "from VisionModels import CustomCNN, CustomEfficientNetB3\n",
    "from VisionDatasets import ContactDataset\n",
    "\n",
    "%load_ext autoreload\n",
    "%autoreload 2"
   ]
  },
  {
   "cell_type": "markdown",
   "metadata": {},
   "source": [
    "# Pre-settings"
   ]
  },
  {
   "cell_type": "code",
   "execution_count": null,
   "metadata": {
    "notebookRunGroups": {
     "groupValue": "1"
    }
   },
   "outputs": [],
   "source": [
    "parameters_json = os.path.join(os.getcwd(), 'settings/parameters.json')\n",
    "paths_json = os.path.join(os.getcwd(), 'settings/paths.json')"
   ]
  },
  {
   "cell_type": "code",
   "execution_count": null,
   "metadata": {
    "notebookRunGroups": {
     "groupValue": "1"
    }
   },
   "outputs": [],
   "source": [
    "with open(parameters_json, 'r') as json_file:\n",
    "    params = json.load(json_file)\n",
    "\n",
    "with open(paths_json, 'r') as json_file:\n",
    "    paths = json.load(json_file)"
   ]
  },
  {
   "cell_type": "code",
   "execution_count": null,
   "metadata": {
    "notebookRunGroups": {
     "groupValue": "1"
    }
   },
   "outputs": [],
   "source": [
    "random_seed = params[\"random_seed\"]\n",
    "\n",
    "os.environ['PYTHONHASHSEED'] = str(random_seed)\n",
    "os.environ['CUBLAS_WORKSPACE_CONFIG'] = \":4096:8\"\n",
    "random.seed(random_seed)\n",
    "np.random.seed(random_seed)\n",
    "torch.manual_seed(random_seed)\n",
    "torch.cuda.manual_seed(random_seed)\n",
    "torch.cuda.manual_seed_all(random_seed)\n",
    "torch.backends.cudnn.benchmark = False\n",
    "torch.backends.cudnn.deterministic = True"
   ]
  },
  {
   "cell_type": "code",
   "execution_count": null,
   "metadata": {
    "notebookRunGroups": {
     "groupValue": "1"
    }
   },
   "outputs": [],
   "source": [
    "device = torch.device('cuda' if torch.cuda.is_available() else 'cpu')"
   ]
  },
  {
   "cell_type": "code",
   "execution_count": null,
   "metadata": {
    "notebookRunGroups": {
     "groupValue": "1"
    }
   },
   "outputs": [],
   "source": [
    "train_set = [\"M1_L_V1_1\", \"M1_L_V1_2\", \"M1_R_V1_1\", \"M1_R_V1_2\",\n",
    "             \"M3_L_V1_1\", \"M3_L_V1_2\", \"M3_R_V1_1\", \"M3_R_V1_2\",\n",
    "             \"M5_L_V1_1\", \"M5_L_V1_2\", \"M5_R_V1_1\", \"M5_R_V1_2\"]\n",
    "\n",
    "test_set = [\"M1_L_V2_1\", \"M1_L_V2_2\", \"M1_R_V2_1\", \"M1_R_V2_2\",\n",
    "            \"M3_L_V2_1\", \"M3_L_V2_2\", \"M3_R_V2_1\", \"M3_R_V2_2\",\n",
    "            \"M5_L_V2_1\", \"M5_L_V2_2\", \"M5_R_V2_1\", \"M5_R_V2_2\",\n",
    "            \"M2_L_V1_1\", \"M2_L_V1_2\", \"M2_R_V1_1\", \"M2_R_V1_2\",\n",
    "            \"M4_L_V1_1\", \"M4_L_V1_2\", \"M4_R_V1_1\", \"M4_R_V1_2\",\n",
    "            \"M2_L_V2_1\", \"M2_L_V2_2\", \"M2_R_V2_1\", \"M2_R_V2_2\",\n",
    "            \"M4_L_V2_1\", \"M4_L_V2_2\", \"M4_R_V2_1\", \"M4_R_V2_2\"]"
   ]
  },
  {
   "cell_type": "code",
   "execution_count": null,
   "metadata": {
    "notebookRunGroups": {
     "groupValue": "1"
    }
   },
   "outputs": [],
   "source": [
    "data_set = 'realistic'\n",
    "model_set = ['CustomCNN', 'EfficientNet']\n",
    "label_set = ['GT', 'MTurk']\n",
    "model_combinations = list(product(model_set, label_set))"
   ]
  },
  {
   "cell_type": "markdown",
   "metadata": {},
   "source": [
    "# Import Data"
   ]
  },
  {
   "cell_type": "code",
   "execution_count": null,
   "metadata": {},
   "outputs": [],
   "source": [
    "data = pd.read_csv(paths[data_set]['labels'], header=0)"
   ]
  },
  {
   "cell_type": "code",
   "execution_count": null,
   "metadata": {},
   "outputs": [],
   "source": [
    "train_data = data[data['dataset'].isin(train_set)]\n",
    "test_data = data[data['dataset'].isin(test_set)]"
   ]
  },
  {
   "cell_type": "code",
   "execution_count": null,
   "metadata": {},
   "outputs": [],
   "source": [
    "# add data to Datasets\n",
    "train_dataloader = {}\n",
    "val_dataloader = {}\n",
    "loss_fn = {}\n",
    "\n",
    "for label_name in label_set:\n",
    "\n",
    "    image_col = 'original filepath'\n",
    "    \n",
    "    if label_name == 'GT':\n",
    "        label_col = 'relabGT'\n",
    "    elif label_name == 'MTurk':\n",
    "        label_col = 'Label'\n",
    "\n",
    "    train_dataset = ContactDataset(\n",
    "        images=train_data[image_col].tolist(),\n",
    "        labels=train_data[label_col].to_numpy(),\n",
    "        coords=list(zip(\n",
    "            train_data['x'].astype(int),\n",
    "            train_data['y'].astype(int))),\n",
    "        jitter=True)\n",
    "\n",
    "    # create DataLoader with existed Datasets\n",
    "    train_dataloader[label_name] = DataLoader(\n",
    "        dataset=train_dataset,\n",
    "        batch_size=params['batch_size'],\n",
    "        num_workers=(16 if os.cpu_count() > 16 else os.cpu_count()),\n",
    "        pin_memory=True,\n",
    "        shuffle=True)\n",
    "    \n",
    "    weights = train_dataset.getWeights().to(device)\n",
    "    loss_fn[label_name] = nn.CrossEntropyLoss(weight=weights)"
   ]
  },
  {
   "cell_type": "markdown",
   "metadata": {},
   "source": [
    "# Training"
   ]
  },
  {
   "cell_type": "code",
   "execution_count": null,
   "metadata": {},
   "outputs": [],
   "source": [
    "for model_name, label_name in model_combinations:\n",
    "    # select the model\n",
    "    if model_name == 'CustomCNN':\n",
    "        model = CustomCNN()\n",
    "    elif model_name == 'EfficientNet':\n",
    "        model = CustomEfficientNetB3()\n",
    "\n",
    "    # set up the optimizer (hyper-parameters)\n",
    "    optimizer = optim.Adam(\n",
    "        model.parameters(),\n",
    "        lr=params[model_name]['learning_rate'],\n",
    "        weight_decay=params[model_name]['weight_decay'])\n",
    "    \n",
    "    # load pre-trained model\n",
    "    utils.load_state_dict(model, model_name, label_name,\n",
    "                          load_path='/home/sxy841/ERIE/silicone/nn-contact/models')\n",
    "\n",
    "    # train and retrieve the metrics\n",
    "    utils.train(\n",
    "        model=model,\n",
    "        optimizer=optimizer,\n",
    "        loss_fn=loss_fn[label_name],\n",
    "        dataloader=train_dataloader[label_name],\n",
    "        device=device,\n",
    "        use_tqdm=False,\n",
    "        epochs=params['epochs'])\n",
    "\n",
    "    utils.save_metrics(model, model_name, label_name)\n",
    "    utils.save_state_dict(model, model_name, label_name)"
   ]
  },
  {
   "cell_type": "markdown",
   "metadata": {},
   "source": [
    "# Predict"
   ]
  },
  {
   "cell_type": "code",
   "execution_count": null,
   "metadata": {
    "notebookRunGroups": {
     "groupValue": "2"
    }
   },
   "outputs": [],
   "source": [
    "results = {}"
   ]
  },
  {
   "cell_type": "code",
   "execution_count": null,
   "metadata": {
    "notebookRunGroups": {
     "groupValue": "2"
    }
   },
   "outputs": [],
   "source": [
    "for set_name in tqdm(test_set):\n",
    "    # concat paths\n",
    "    label_path = os.path.join(\n",
    "        paths[data_set]['image_set'], f'output_{set_name}', 'labels_PSM2.txt')\n",
    "    images_path = os.path.join(\n",
    "        paths[data_set]['image_set'], f'output_{set_name}')\n",
    "    coordinates_path = os.path.join(\n",
    "        paths[data_set]['keypoints'],\n",
    "        f\"{set_name}_L_h264{paths[data_set]['keypoints_model']}.h5\")\n",
    "    \n",
    "    # load data files\n",
    "    test_data = pd.read_csv(label_path, header=None).iloc[:, 1:4].to_numpy()\n",
    "    coordinates = pd.read_hdf(coordinates_path).loc[:, [\n",
    "        (paths[data_set]['keypoints_model'], 'Mid_1', 'x'),\n",
    "        (paths[data_set]['keypoints_model'], 'Mid_1', 'y')]].to_numpy()\n",
    "\n",
    "    test_images = []\n",
    "    test_laebls = []\n",
    "\n",
    "    # add data to list\n",
    "    force_threshold = 0.2\n",
    "    for index, row in enumerate(test_data):\n",
    "        test_images.append(os.path.join(images_path, f'img_{index}.jpg'))\n",
    "        test_laebls.append(1 if np.sqrt(row.dot(row)) > force_threshold else 0)\n",
    "\n",
    "    # create dataset and dataloader\n",
    "    test_dataset = ContactDataset(\n",
    "        images=test_images,\n",
    "        labels=test_laebls,\n",
    "        coords=coordinates.astype(int).tolist(),\n",
    "        jitter=False)\n",
    "\n",
    "    test_dataloader = DataLoader(\n",
    "        dataset=test_dataset,\n",
    "        batch_size=512,\n",
    "        num_workers=(16 if os.cpu_count() > 16 else os.cpu_count()),\n",
    "        pin_memory=True,\n",
    "        shuffle=True)\n",
    "\n",
    "    # predict for each model\n",
    "    for model_name, label_name in model_combinations:\n",
    "        # select the model\n",
    "        if model_name == 'CustomCNN':\n",
    "            model = CustomCNN()\n",
    "        elif model_name == 'EfficientNet':\n",
    "            model = CustomEfficientNetB3()\n",
    "\n",
    "        utils.load_state_dict(model, model_name, label_name)\n",
    "        predictions, ground_truth = utils.predict(\n",
    "            model=model,\n",
    "            dataloader=test_dataloader,\n",
    "            device=device)\n",
    "\n",
    "        results[(model_name, label_name, set_name)] = {\n",
    "            \"Prediction\": predictions,\n",
    "            \"Ground Truth\": ground_truth\n",
    "        }"
   ]
  },
  {
   "cell_type": "code",
   "execution_count": null,
   "metadata": {},
   "outputs": [],
   "source": [
    "with open(f'labels/{data_set}_noPreTrain_{datetime.now().strftime(\"%Y%m%d_%H%M%S\")}.pkl', 'wb') as file:\n",
    "    pickle.dump(results, file)"
   ]
  },
  {
   "cell_type": "markdown",
   "metadata": {},
   "source": [
    "# Test"
   ]
  },
  {
   "cell_type": "code",
   "execution_count": null,
   "metadata": {},
   "outputs": [],
   "source": [
    "model_name = 'EfficientNet'\n",
    "label_name = 'MTurk'\n",
    "model = CustomEfficientNetB3()"
   ]
  },
  {
   "cell_type": "code",
   "execution_count": null,
   "metadata": {},
   "outputs": [],
   "source": [
    "utils.load_state_dict(model, model_name, label_name)"
   ]
  },
  {
   "cell_type": "code",
   "execution_count": null,
   "metadata": {},
   "outputs": [],
   "source": [
    "from sklearn.metrics import classification_report\n",
    "print(data_set)\n",
    "for model_name, label_name in model_combinations:\n",
    "    binary_predictions = []\n",
    "    y = []\n",
    "    for ts in test_set:\n",
    "        pred, gt = results[(model_name, label_name, ts)].values()\n",
    "        y.extend(gt)\n",
    "        binary_predictions.extend((pred > 0.5).astype(int))\n",
    "    print((model_name, label_name),\n",
    "          classification_report(y, binary_predictions, output_dict=True))"
   ]
  },
  {
   "cell_type": "code",
   "execution_count": null,
   "metadata": {},
   "outputs": [],
   "source": [
    "# set up the optimizer (hyper-parameters)\n",
    "optimizer = optim.Adam(\n",
    "    model.parameters(),\n",
    "    lr=params[model_name]['learning_rate'],\n",
    "    weight_decay=params[model_name]['weight_decay'])\n",
    "\n",
    "# train and retrieve the metrics\n",
    "utils.train(\n",
    "    model=model,\n",
    "    optimizer=optimizer,\n",
    "    loss_fn=loss_fn[label_name],\n",
    "    dataloader=train_dataloader[label_name],\n",
    "    val_dataloader=val_dataloader[label_name],\n",
    "    device=device,\n",
    "    use_tqdm=True,\n",
    "    epochs=10)\n",
    "\n",
    "utils.save_metrics(model, model_name, label_name)\n",
    "utils.save_state_dict(model, model_name, label_name)"
   ]
  },
  {
   "cell_type": "code",
   "execution_count": null,
   "metadata": {},
   "outputs": [],
   "source": [
    "from PIL import Image, ImageDraw\n",
    "import torchvision\n",
    "width, height = 936, 702\n",
    "merged_image = Image.new('RGB', (width, height))\n",
    "\n",
    "draw = ImageDraw.Draw(merged_image)\n",
    "\n",
    "small_image_width, small_image_height = 234, 234\n",
    "x, y = 0, 0\n",
    "\n",
    "for images, labels in test_dataloader:\n",
    "    for image in images:\n",
    "        image = torchvision.transforms.ToPILImage()(image)\n",
    "        merged_image.paste(image, (x, y))\n",
    "    \n",
    "        x += small_image_width\n",
    "        \n",
    "        if x + small_image_width > width:\n",
    "            x = 0\n",
    "            y += small_image_height\n",
    "\n",
    "merged_image.show()"
   ]
  }
 ],
 "metadata": {
  "kernelspec": {
   "display_name": "Python 3",
   "language": "python",
   "name": "python3"
  },
  "language_info": {
   "codemirror_mode": {
    "name": "ipython",
    "version": 3
   },
   "file_extension": ".py",
   "mimetype": "text/x-python",
   "name": "python",
   "nbconvert_exporter": "python",
   "pygments_lexer": "ipython3",
   "version": "3.9.5"
  }
 },
 "nbformat": 4,
 "nbformat_minor": 2
}
