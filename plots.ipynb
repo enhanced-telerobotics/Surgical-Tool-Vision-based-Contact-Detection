{
 "cells": [
  {
   "cell_type": "markdown",
   "metadata": {},
   "source": [
    "# Loss and Accuarcy over Epochs"
   ]
  },
  {
   "cell_type": "code",
   "execution_count": null,
   "metadata": {},
   "outputs": [],
   "source": [
    "import glob\n",
    "import matplotlib.pyplot as plt\n",
    "import json\n",
    "import os\n",
    "from itertools import cycle\n",
    "\n",
    "# Use glob to find all json files in the specified directory\n",
    "file_list = glob.glob('results/metrics_*.json')\n",
    "\n",
    "# Create a color cycle iterator to assign unique colors\n",
    "color_cycle = cycle(plt.rcParams['axes.prop_cycle'].by_key()['color'])\n",
    "\n",
    "# Plot the data\n",
    "plt.figure(figsize=(14, 7))\n",
    "\n",
    "# Initialize a dictionary to store colors for each label\n",
    "color_map = {}\n",
    "\n",
    "# Subplot for Loss\n",
    "plt.subplot(1, 2, 1)\n",
    "for file in file_list:\n",
    "    # Extract model_name and label_name from the file name\n",
    "    filename = os.path.basename(file)\n",
    "    model_label = filename.replace('metrics_', '').rsplit('.', 1)[0]  # Remove the 'metrics_' prefix and '.json' suffix\n",
    "    \n",
    "    # Check if we have already assigned a color, otherwise get the next color\n",
    "    if model_label not in color_map:\n",
    "        color_map[model_label] = next(color_cycle)\n",
    "        \n",
    "    # Read json content\n",
    "    with open(file, 'r') as f:\n",
    "        data = json.load(f)\n",
    "\n",
    "    epochs = list(range(1, len(data['train_loss']) + 1))\n",
    "    plt.plot(epochs, data['train_loss'], label=f'Train Loss ({model_label})', color=color_map[model_label])\n",
    "    plt.plot(epochs, data['val_loss'], label=f'Val Loss ({model_label})', linestyle='--', color=color_map[model_label])\n",
    "\n",
    "plt.title('Loss over Epochs')\n",
    "plt.xlabel('Epoch')\n",
    "plt.ylabel('Loss')\n",
    "plt.legend()\n",
    "\n",
    "# Subplot for Accuracy\n",
    "plt.subplot(1, 2, 2)\n",
    "for file in file_list:\n",
    "    # Extract model_name and label_name from the file name\n",
    "    filename = os.path.basename(file)\n",
    "    model_label = filename.replace('metrics_', '').rsplit('.', 1)[0]  # Remove the 'metrics_' prefix and '.json' suffix\n",
    "    \n",
    "    # Read json content\n",
    "    with open(file, 'r') as f:\n",
    "        data = json.load(f)\n",
    "\n",
    "    epochs = list(range(1, len(data['train_acc']) + 1))\n",
    "    plt.plot(epochs, data['train_acc'], label=f'Train Acc ({model_label})', color=color_map[model_label])\n",
    "    plt.plot(epochs, data['val_acc'], label=f'Val Acc ({model_label})', linestyle='--', color=color_map[model_label])\n",
    "\n",
    "plt.title('Accuracy over Epochs')\n",
    "plt.xlabel('Epoch')\n",
    "plt.ylabel('Accuracy')\n",
    "plt.legend()\n",
    "\n",
    "plt.suptitle('Loss and Accuracy over Epochs')\n",
    "plt.tight_layout(rect=[0, 0.03, 1, 0.95])\n",
    "plt.show()\n"
   ]
  }
 ],
 "metadata": {
  "kernelspec": {
   "display_name": "Python 3",
   "language": "python",
   "name": "python3"
  },
  "language_info": {
   "codemirror_mode": {
    "name": "ipython",
    "version": 3
   },
   "file_extension": ".py",
   "mimetype": "text/x-python",
   "name": "python",
   "nbconvert_exporter": "python",
   "pygments_lexer": "ipython3",
   "version": "3.9.5"
  }
 },
 "nbformat": 4,
 "nbformat_minor": 2
}
